{
  "nbformat": 4,
  "nbformat_minor": 0,
  "metadata": {
    "colab": {
      "provenance": []
    },
    "kernelspec": {
      "name": "python3",
      "display_name": "Python 3"
    },
    "language_info": {
      "name": "python"
    }
  },
  "cells": [
    {
      "cell_type": "markdown",
      "source": [
        "1.\tWrite a Python program to convert kilometers to miles?"
      ],
      "metadata": {
        "id": "4RzvUQQVxtWU"
      }
    },
    {
      "cell_type": "code",
      "execution_count": 4,
      "metadata": {
        "colab": {
          "base_uri": "https://localhost:8080/"
        },
        "id": "uVpG-AiQxjpN",
        "outputId": "4f4b1b02-7210-42c7-b888-2b69173b05a2"
      },
      "outputs": [
        {
          "output_type": "stream",
          "name": "stdout",
          "text": [
            "The value converted to miles is 8.078\n"
          ]
        }
      ],
      "source": [
        "# Inorder to convert km to miles we need to multiply the km with 0.6214. i.e 1km=0.6214 miles.\n",
        "def km_to_miles(in_km):\n",
        "  converted_value=in_km*0.6214\n",
        "  return converted_value\n",
        "\n",
        "mile_value=km_to_miles(13)\n",
        "print(f\"The value converted to miles is {round(mile_value,3)}\")"
      ]
    },
    {
      "cell_type": "markdown",
      "source": [
        "2.\tWrite a Python program to convert Celsius to Fahrenheit?"
      ],
      "metadata": {
        "id": "XWgPOeiZzJvm"
      }
    },
    {
      "cell_type": "code",
      "source": [
        "# Celsius to fahrenheit formula (F =C * 1.8000+ 32.00)\n",
        "\n",
        "def fahrenheit(input_celsius):\n",
        "  output_fahrenheit=(input_celsius*1.8000)+32.00\n",
        "  return output_fahrenheit\n",
        "\n",
        "Fahrenheit_value=fahrenheit(11.235)\n",
        "\n",
        "print(f\"The fahrenheit equivalent value of 11.235 celsius is {round(Fahrenheit_value,5)}\")"
      ],
      "metadata": {
        "colab": {
          "base_uri": "https://localhost:8080/"
        },
        "id": "q2oJa6bmzMm4",
        "outputId": "acee924c-7468-4e4b-bf9e-a48300719b67"
      },
      "execution_count": 7,
      "outputs": [
        {
          "output_type": "stream",
          "name": "stdout",
          "text": [
            "The fahrenheit equivalent value of 11.235 celsius is 52.223\n"
          ]
        }
      ]
    },
    {
      "cell_type": "markdown",
      "source": [
        "3.\tWrite a Python program to display calendar?"
      ],
      "metadata": {
        "id": "gZarzgg90oar"
      }
    },
    {
      "cell_type": "code",
      "source": [
        "# importing calendar module\n",
        "import calendar\n",
        "\n",
        "year = 2022  # year\n",
        "month = 12    # month\n",
        "\n",
        "\n",
        "# display the calendar\n",
        "print(calendar.month(year, month))"
      ],
      "metadata": {
        "colab": {
          "base_uri": "https://localhost:8080/"
        },
        "id": "EzeGhuAx0uYe",
        "outputId": "440b44dc-d65c-46c8-9005-cd9c891bd033"
      },
      "execution_count": 8,
      "outputs": [
        {
          "output_type": "stream",
          "name": "stdout",
          "text": [
            "   December 2022\n",
            "Mo Tu We Th Fr Sa Su\n",
            "          1  2  3  4\n",
            " 5  6  7  8  9 10 11\n",
            "12 13 14 15 16 17 18\n",
            "19 20 21 22 23 24 25\n",
            "26 27 28 29 30 31\n",
            "\n"
          ]
        }
      ]
    },
    {
      "cell_type": "markdown",
      "source": [
        "4.\tWrite a Python program to solve quadratic equation?"
      ],
      "metadata": {
        "id": "5K18fH1E1F1S"
      }
    },
    {
      "cell_type": "code",
      "source": [
        "\n",
        "\n",
        "# import complex math module\n",
        "import cmath\n",
        "\n",
        "a = 1\n",
        "b = 5\n",
        "c = 6\n",
        "\n",
        "# calculate the discriminant\n",
        "d = (b**2) - (4*a*c)\n",
        "\n",
        "# find two solutions\n",
        "sol1 = (-b-cmath.sqrt(d))/(2*a)\n",
        "sol2 = (-b+cmath.sqrt(d))/(2*a)\n",
        "\n",
        "print('The solution are {0} and {1}'.format(sol1,sol2))"
      ],
      "metadata": {
        "colab": {
          "base_uri": "https://localhost:8080/"
        },
        "id": "iwtxOsFd1Jt0",
        "outputId": "aeff7a00-ce69-4a43-b7da-2738c1eef7e2"
      },
      "execution_count": 1,
      "outputs": [
        {
          "output_type": "stream",
          "name": "stdout",
          "text": [
            "The solution are (-3+0j) and (-2+0j)\n"
          ]
        }
      ]
    },
    {
      "cell_type": "markdown",
      "source": [
        "5.\tWrite a Python program to swap two variables without temp variable?"
      ],
      "metadata": {
        "id": "Z1YZYXDfnAoV"
      }
    },
    {
      "cell_type": "code",
      "source": [
        "def swap_without_temp(a,b):\n",
        "  a=a+b\n",
        "  b=a-b\n",
        "  a=a-b\n",
        "  return a,b\n",
        "a,b=swap_without_temp(2,3)\n",
        "print(f\"The value of a,b before swap is (2,3) and the value after swap is {a,b}\")"
      ],
      "metadata": {
        "colab": {
          "base_uri": "https://localhost:8080/"
        },
        "id": "vr5klBn1nUVB",
        "outputId": "51f362e2-176b-4425-aec5-61c83617e952"
      },
      "execution_count": 4,
      "outputs": [
        {
          "output_type": "stream",
          "name": "stdout",
          "text": [
            "The value of a,b before swap is (2,3) and the value after swap is (3, 2)\n"
          ]
        }
      ]
    }
  ]
}