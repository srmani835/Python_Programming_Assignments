{
  "nbformat": 4,
  "nbformat_minor": 0,
  "metadata": {
    "colab": {
      "provenance": []
    },
    "kernelspec": {
      "name": "python3",
      "display_name": "Python 3"
    },
    "language_info": {
      "name": "python"
    }
  },
  "cells": [
    {
      "cell_type": "markdown",
      "source": [
        "1.\tWrite a Python Program to Add Two Matrices?"
      ],
      "metadata": {
        "id": "07Bkp3zzDPkp"
      }
    },
    {
      "cell_type": "code",
      "source": [
        "\n",
        "import numpy as np\n",
        "  \n",
        "R = int(input(\"Enter the number of rows for first matrix:\"))\n",
        "C = int(input(\"Enter the number of columns for the first matrix:\"))\n",
        "  \n",
        "  \n",
        "print(\"Enter the entries in a single line (separated by space): \")\n",
        "  \n",
        "# User input of entries in a \n",
        "# single line separated by space\n",
        "entries_first = list(map(int, input().split()))\n",
        "  \n",
        "# For printing the matrix\n",
        "matrix = np.array(entries_first).reshape(R, C)\n",
        "print(matrix)\n",
        "\n",
        "\n",
        "\n",
        "  \n",
        "R_1 = int(input(\"Enter the number of rows for second Matrix:\"))\n",
        "C_1 = int(input(\"Enter the number of columns for second Matrix:\"))\n",
        "  \n",
        "  \n",
        "print(\"Enter the entries in a single line (separated by space): \")\n",
        "  \n",
        "# User input of entries in a \n",
        "# single line separated by space\n",
        "entries_second = list(map(int, input().split()))\n",
        "  \n",
        "# For printing the matrix\n",
        "matrix_2 = np.array(entries_second).reshape(R_1, C_1)\n",
        "print(matrix_2)\n",
        "result=[[0,0],[0,0]]\n",
        "for i in range(len(matrix)):\n",
        "  for j in range(len(matrix[0])):\n",
        "       result[i][j] = matrix[i][j] + matrix_2[i][j]\n",
        "print(f\"The sum of matrices is --  {result}\")"
      ],
      "metadata": {
        "colab": {
          "base_uri": "https://localhost:8080/"
        },
        "id": "rpSpxpeZDQm_",
        "outputId": "427543a1-0f6b-499e-ab6d-03eb2c95bb0e"
      },
      "execution_count": 8,
      "outputs": [
        {
          "output_type": "stream",
          "name": "stdout",
          "text": [
            "Enter the number of rows for first matrix:2\n",
            "Enter the number of columns for the first matrix:2\n",
            "Enter the entries in a single line (separated by space): \n",
            "1 2 3 4\n",
            "[[1 2]\n",
            " [3 4]]\n",
            "Enter the number of rows for second Matrix:2\n",
            "Enter the number of columns for second Matrix:2\n",
            "Enter the entries in a single line (separated by space): \n",
            "3 2 0 5\n",
            "[[3 2]\n",
            " [0 5]]\n",
            "The sum of matrices is --  [[4, 4], [3, 9]]\n"
          ]
        }
      ]
    },
    {
      "cell_type": "markdown",
      "source": [
        "2.\tWrite a Python Program to Multiply Two Matrices?"
      ],
      "metadata": {
        "id": "Hf11syX-11CQ"
      }
    },
    {
      "cell_type": "code",
      "source": [
        "import numpy as np\n",
        "R = int(input(\"Enter the number of rows for first matrix:\"))\n",
        "C = int(input(\"Enter the number of columns for the first matrix:\"))\n",
        "  \n",
        "  \n",
        "print(\"Enter the entries in a single line (separated by space): \")\n",
        "  \n",
        "# User input of entries in a \n",
        "# single line separated by space\n",
        "entries_first = list(map(int, input().split()))\n",
        "  \n",
        "# For printing the matrix\n",
        "matrix = np.array(entries_first).reshape(R, C)\n",
        "print(matrix)\n",
        "\n",
        "\n",
        "\n",
        "  \n",
        "R_1 = int(input(\"Enter the number of rows for second Matrix:\"))\n",
        "C_1 = int(input(\"Enter the number of columns for second Matrix:\"))\n",
        "  \n",
        "  \n",
        "print(\"Enter the entries in a single line (separated by space): \")\n",
        "  \n",
        "# User input of entries in a \n",
        "# single line separated by space\n",
        "entries_second = list(map(int, input().split()))\n",
        "matrix_2 = np.array(entries_second).reshape(R_1, C_1)\n",
        "\n",
        "if C!=R_1:\n",
        "  print(\"Matrix multiplication is not possible\")\n",
        "else:\n",
        "  matrix_mult=np.matmul(matrix,matrix_2)\n",
        "print(\"matrix multiplication\")\n",
        "print(matrix_mult)"
      ],
      "metadata": {
        "colab": {
          "base_uri": "https://localhost:8080/"
        },
        "id": "CSkXm_nVzmgq",
        "outputId": "e25c8d3f-7373-4168-d556-d5b5b40e4ab9"
      },
      "execution_count": 12,
      "outputs": [
        {
          "output_type": "stream",
          "name": "stdout",
          "text": [
            "Enter the number of rows for first matrix:2\n",
            "Enter the number of columns for the first matrix:2\n",
            "Enter the entries in a single line (separated by space): \n",
            "1 1 1 1\n",
            "[[1 1]\n",
            " [1 1]]\n",
            "Enter the number of rows for second Matrix:2 \n",
            "Enter the number of columns for second Matrix:2\n",
            "Enter the entries in a single line (separated by space): \n",
            "3 3 3 3\n",
            "matrix multiplication\n",
            "[[6 6]\n",
            " [6 6]]\n"
          ]
        }
      ]
    },
    {
      "cell_type": "markdown",
      "source": [
        "3.\tWrite a Python Program to Transpose a Matrix?"
      ],
      "metadata": {
        "id": "H3OhxO9E94RW"
      }
    },
    {
      "cell_type": "code",
      "source": [
        "R = int(input(\"Enter the number of rows for first matrix:\"))\n",
        "C = int(input(\"Enter the number of columns for the first matrix:\"))\n",
        "  \n",
        "  \n",
        "print(\"Enter the entries in a single line (separated by space): \")\n",
        "  \n",
        "# User input of entries in a \n",
        "# single line separated by space\n",
        "entries_first = list(map(int, input().split()))\n",
        "  \n",
        "# For printing the matrix\n",
        "matrix = np.array(entries_first).reshape(R, C)\n",
        "print(matrix)\n",
        "\n",
        "transpose_matrix=np.transpose(matrix)\n",
        "\n",
        "print(f\"The transposed matrix is {transpose_matrix}\")"
      ],
      "metadata": {
        "colab": {
          "base_uri": "https://localhost:8080/"
        },
        "id": "1YjcaCX999NB",
        "outputId": "d39e9f1b-5653-47ad-e87a-78b2426732ad"
      },
      "execution_count": 13,
      "outputs": [
        {
          "output_type": "stream",
          "name": "stdout",
          "text": [
            "Enter the number of rows for first matrix:2\n",
            "Enter the number of columns for the first matrix:2\n",
            "Enter the entries in a single line (separated by space): \n",
            "2 3 1 5\n",
            "[[2 3]\n",
            " [1 5]]\n",
            "The transposed matrix is [[2 1]\n",
            " [3 5]]\n"
          ]
        }
      ]
    },
    {
      "cell_type": "markdown",
      "source": [
        "4.\tWrite a Python Program to Sort Words in Alphabetic Order?"
      ],
      "metadata": {
        "id": "6NfvhnKZ-Tkg"
      }
    },
    {
      "cell_type": "code",
      "source": [
        "input_sentence=input(\"enter the sentence you want to sort words\")\n",
        "output=\"\"\n",
        "words=input_sentence.split()\n",
        "words.sort()\n",
        "for i in words:\n",
        "  print(i)\n"
      ],
      "metadata": {
        "colab": {
          "base_uri": "https://localhost:8080/"
        },
        "id": "e5-a_7Y3-Xv6",
        "outputId": "0bbc4495-b021-4553-ae95-17c744057b66"
      },
      "execution_count": 18,
      "outputs": [
        {
          "output_type": "stream",
          "name": "stdout",
          "text": [
            "enter the sentence you want to sort wordsapple zebra cat bad\n",
            "apple\n",
            "bad\n",
            "cat\n",
            "zebra\n"
          ]
        }
      ]
    },
    {
      "cell_type": "markdown",
      "source": [
        "5.\tWrite a Python Program to Remove Punctuation From a String?"
      ],
      "metadata": {
        "id": "vGiTfblH_hi-"
      }
    },
    {
      "cell_type": "code",
      "source": [
        "import regex as re\n",
        "str=\"hello %$@Friday%^&\"\n",
        "res = re.sub(r'[^\\w\\s]', '', str)\n",
        "print(f\"The punctated removed string is :-- {res}\")"
      ],
      "metadata": {
        "colab": {
          "base_uri": "https://localhost:8080/"
        },
        "id": "KVssg-IG_ov-",
        "outputId": "d34f5d4c-9675-4346-ed73-44d3d886fb69"
      },
      "execution_count": 21,
      "outputs": [
        {
          "output_type": "stream",
          "name": "stdout",
          "text": [
            "The punctated removed string is :-- hello Friday\n"
          ]
        }
      ]
    }
  ]
}