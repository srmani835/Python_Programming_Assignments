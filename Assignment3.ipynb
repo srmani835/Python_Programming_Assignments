{
  "nbformat": 4,
  "nbformat_minor": 0,
  "metadata": {
    "colab": {
      "provenance": []
    },
    "kernelspec": {
      "name": "python3",
      "display_name": "Python 3"
    },
    "language_info": {
      "name": "python"
    }
  },
  "cells": [
    {
      "cell_type": "markdown",
      "source": [
        "1.\tWrite a Python Program to Check if a Number is Positive, Negative or Zero?"
      ],
      "metadata": {
        "id": "E2gjo-fQoWvt"
      }
    },
    {
      "cell_type": "code",
      "source": [
        "def num_check(a):\n",
        "  if a>0:\n",
        "    return \"Positive\"\n",
        "  elif a<0:\n",
        "    return \"Negative\"\n",
        "  else:\n",
        "    return \"Zero\"\n",
        "Zero_check=num_check(0)\n",
        "Positive_check=num_check(2)\n",
        "Negative_check=num_check(-5)\n",
        "print(Zero_check)\n",
        "print(f\"The number for Zero_check entered is 0 and returned value is {Zero_check}\")\n",
        "\n",
        "print(f\"The number for Positive_check entered is 2 and returned value is {Positive_check}\")\n",
        "\n",
        "print(f\"The number for Negative_check entered is -5 and returned value is {Negative_check}\")\n"
      ],
      "metadata": {
        "colab": {
          "base_uri": "https://localhost:8080/"
        },
        "id": "p8hl-DsPoYVo",
        "outputId": "729f0b50-23fb-4770-9147-2301257c2624"
      },
      "execution_count": 11,
      "outputs": [
        {
          "output_type": "stream",
          "name": "stdout",
          "text": [
            "Zero\n",
            "The number for Zero_check entered is 0 and returned value is Zero\n",
            "The number for Positive_check entered is 2 and returned value is Positive\n",
            "The number for Negative_check entered is -5 and returned value is Negative\n"
          ]
        }
      ]
    },
    {
      "cell_type": "markdown",
      "source": [
        "2.\tWrite a Python Program to Check if a Number is Odd or Even?"
      ],
      "metadata": {
        "id": "3ASX_BmGrWlg"
      }
    },
    {
      "cell_type": "code",
      "source": [
        "#Use modulo operator for checking the remainder\n",
        "def even_odd(a):\n",
        "  if a%2==0:\n",
        "    return \"Even\"\n",
        "  else:\n",
        "    return \"Odd\"\n",
        "\n",
        "even_num_input=even_odd(88)\n",
        "odd_num_input=even_odd(135)\n",
        "\n",
        "\n",
        "print(f\"The number entered for even_num_input is 88 and returned value of function is {even_num_input}\")\n",
        "print(f\"The number entered for odd_num_input is 135 and returned value of function is {odd_num_input}\")\n"
      ],
      "metadata": {
        "colab": {
          "base_uri": "https://localhost:8080/"
        },
        "id": "yfHLYISkrOJQ",
        "outputId": "ba5f6d17-6c12-4bb1-f42a-8e6065f05f74"
      },
      "execution_count": 18,
      "outputs": [
        {
          "output_type": "stream",
          "name": "stdout",
          "text": [
            "The number entered for even_num_input is 88 and returned value of function is Even\n",
            "The number entered for odd_num_input is 135 and returned value of function is Odd\n"
          ]
        }
      ]
    },
    {
      "cell_type": "markdown",
      "source": [
        "3.\tWrite a Python Program to Check Leap Year?"
      ],
      "metadata": {
        "id": "Ip1WNRrZu7QE"
      }
    },
    {
      "cell_type": "code",
      "source": [
        "#Century years must be divided with 400 remaing can be checked by dividing with 4\n",
        "def check_leap_year(year_input):\n",
        "  if year_input % 400==0 and year_input % 100==0:\n",
        "    return \"Century Leap Year\"\n",
        "  elif year_input %4==0 and year_input % 100!=0:\n",
        "    return \"Leap year\"\n",
        "  else:\n",
        "    return \"Not a leap year\"\n",
        "century_leap_year=check_leap_year(2000)\n",
        "Normal_leap_year=check_leap_year(2012)\n",
        "not_a_leap_year=check_leap_year(2015)\n",
        "print(f\"The cetury leap year entered is 2000 and returned value is {century_leap_year}\")\n",
        "print(f\"The normal leap year entered is 2012 and returned value is {Normal_leap_year}\")\n",
        "print(f\"Not a leap year entered is 2015 and returned value is {not_a_leap_year}\")"
      ],
      "metadata": {
        "colab": {
          "base_uri": "https://localhost:8080/"
        },
        "id": "uSzPpEvFsYXw",
        "outputId": "3d745d93-e3be-4c12-9cbf-9b1da6f3522d"
      },
      "execution_count": 20,
      "outputs": [
        {
          "output_type": "stream",
          "name": "stdout",
          "text": [
            "The cetury leap year entered is 2000 and returned value is Century Leap Year\n",
            "The normal leap year entered is 2012 and returned value is Leap year\n",
            "Not a leap year entered is 2015 and returned value is Not a leap year\n"
          ]
        }
      ]
    },
    {
      "cell_type": "markdown",
      "source": [
        "4.\tWrite a Python Program to Check Prime Number?"
      ],
      "metadata": {
        "id": "Ac4Stk5wxZSK"
      }
    },
    {
      "cell_type": "code",
      "source": [
        "flag=False\n",
        "num=23\n",
        "if num > 1:\n",
        "    for i in range(2, num):\n",
        "        if (num % i) == 0:\n",
        "            flag = True\n",
        "            break\n",
        "\n",
        "\n",
        "if flag:\n",
        "    print(num, \"is not a prime number\")\n",
        "else:\n",
        "    print(num, \"is a prime number\")"
      ],
      "metadata": {
        "colab": {
          "base_uri": "https://localhost:8080/"
        },
        "id": "h7kVGiBBxeir",
        "outputId": "86fb9514-9c8a-455e-eb35-eaacdd3335e2"
      },
      "execution_count": 22,
      "outputs": [
        {
          "output_type": "stream",
          "name": "stdout",
          "text": [
            "23 is a prime number\n"
          ]
        }
      ]
    },
    {
      "cell_type": "markdown",
      "source": [
        "5.\tWrite a Python Program to Print all Prime Numbers in an Interval of 1-10000?"
      ],
      "metadata": {
        "id": "ZKc20SKAyHfa"
      }
    },
    {
      "cell_type": "code",
      "source": [
        "\n",
        "\n",
        "lower = 1\n",
        "upper = 10000\n",
        "\n",
        "\n",
        "prime_num=[]\n",
        "\n",
        "for num in range(lower, upper + 1):\n",
        "   # all prime numbers are greater than 1\n",
        "   if num > 1:\n",
        "       for i in range(2, num):\n",
        "           if (num % i) == 0:\n",
        "               break\n",
        "       else:\n",
        "           prime_num.append(num)\n",
        "print(\"The first ten prime numbers are\",prime_num[:10])\n",
        "\n"
      ],
      "metadata": {
        "colab": {
          "base_uri": "https://localhost:8080/"
        },
        "id": "gMuG1UBvyLKI",
        "outputId": "57b83995-5e6f-435a-fa6b-1e2c079c9af4"
      },
      "execution_count": 33,
      "outputs": [
        {
          "output_type": "stream",
          "name": "stdout",
          "text": [
            "The first ten prime numbers are [2, 3, 5, 7, 11, 13, 17, 19, 23, 29]\n"
          ]
        }
      ]
    }
  ]
}