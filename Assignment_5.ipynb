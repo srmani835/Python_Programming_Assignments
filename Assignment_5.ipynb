{
  "nbformat": 4,
  "nbformat_minor": 0,
  "metadata": {
    "colab": {
      "provenance": []
    },
    "kernelspec": {
      "name": "python3",
      "display_name": "Python 3"
    },
    "language_info": {
      "name": "python"
    }
  },
  "cells": [
    {
      "cell_type": "markdown",
      "source": [
        "1.\tWrite a Python Program to Find LCM?"
      ],
      "metadata": {
        "id": "pawDkSaR12jx"
      }
    },
    {
      "cell_type": "code",
      "source": [
        "number_1=4\n",
        "number_2=3\n",
        "if number_1>number_2:\n",
        "  max=number_1\n",
        "else:\n",
        "  max=number_2\n",
        "while(True):\n",
        "    if(max % number_1 == 0 and max % number_2 == 0):   \n",
        "        print(max)\n",
        "        break;\n",
        "    max= max+ 1\n",
        "    "
      ],
      "metadata": {
        "colab": {
          "base_uri": "https://localhost:8080/"
        },
        "id": "4CivSDXi15U7",
        "outputId": "63d91a17-5cf5-4a45-d180-6bb1633d2267"
      },
      "execution_count": 7,
      "outputs": [
        {
          "output_type": "stream",
          "name": "stdout",
          "text": [
            "12\n"
          ]
        }
      ]
    },
    {
      "cell_type": "markdown",
      "source": [
        "2.\tWrite a Python Program to Find HCF?"
      ],
      "metadata": {
        "id": "CF-9T5V24BWz"
      }
    },
    {
      "cell_type": "code",
      "source": [
        "number_1=4\n",
        "number_2=3\n",
        "if number_1>number_2:\n",
        "  max=number_1\n",
        "else:\n",
        "  max=number_2\n",
        "while(True):\n",
        "    if(max % number_1 == 0 and max % number_2 == 0):   \n",
        "        \n",
        "        lcm=max\n",
        "        break;\n",
        "    max= max+ 1\n",
        "hcf=(number_1*number_2)//lcm\n",
        "print(hcf)"
      ],
      "metadata": {
        "colab": {
          "base_uri": "https://localhost:8080/"
        },
        "id": "S3ki3SjJ6AGV",
        "outputId": "6b02f4e0-266d-4900-c360-74e9413d8837"
      },
      "execution_count": 9,
      "outputs": [
        {
          "output_type": "stream",
          "name": "stdout",
          "text": [
            "1\n"
          ]
        }
      ]
    },
    {
      "cell_type": "markdown",
      "source": [
        "3.\tWrite a Python Program to Convert Decimal to Binary, Octal and Hexadecimal?"
      ],
      "metadata": {
        "id": "ULFWGT-N6cRM"
      }
    },
    {
      "cell_type": "code",
      "source": [
        "def convert(decimal_num):\n",
        "  binary=bin(decimal_num)\n",
        "  octal=oct(decimal_num)\n",
        "  hexadecimal=hex(decimal_num)\n",
        "  return binary,octal,hexadecimal\n",
        "\n",
        "a,b,c=convert(10)\n",
        "print(f\"The equivalent values of decimal number 10 are binary : {a} , octal : {b} , hexadecimal : {c} \")\n"
      ],
      "metadata": {
        "colab": {
          "base_uri": "https://localhost:8080/"
        },
        "id": "pZ66DUWY6U9d",
        "outputId": "010abbc2-8a35-42d1-c7c3-8d0614d0d378"
      },
      "execution_count": 11,
      "outputs": [
        {
          "output_type": "stream",
          "name": "stdout",
          "text": [
            "The equivalent values of decimal number 10 are binary : 0b1010 , octal : 0o12 , hexadecimal : 0xa \n"
          ]
        }
      ]
    },
    {
      "cell_type": "markdown",
      "source": [
        "4.\tWrite a Python Program To Find ASCII value of a character?"
      ],
      "metadata": {
        "id": "EzLqmQMx8FZS"
      }
    },
    {
      "cell_type": "code",
      "source": [
        "#To get ASCII value we need to use the ord function\n",
        "def Ascii_conversion(character):\n",
        "  return ord(character)\n",
        "Ascii_value=Ascii_conversion('A')\n",
        "print(f\"The equivalent Ascii value is {Ascii_value}\")"
      ],
      "metadata": {
        "colab": {
          "base_uri": "https://localhost:8080/"
        },
        "id": "OmPp9paH6bXZ",
        "outputId": "8162c69f-7498-47f4-bc8e-fe37fb71d511"
      },
      "execution_count": 13,
      "outputs": [
        {
          "output_type": "stream",
          "name": "stdout",
          "text": [
            "The equivalent Ascii value is 65\n"
          ]
        }
      ]
    },
    {
      "cell_type": "markdown",
      "source": [
        "5.\tWrite a Python Program to Make a Simple Calculator with 4 basic mathematical operations?"
      ],
      "metadata": {
        "id": "AvCSeC7N81uv"
      }
    },
    {
      "cell_type": "code",
      "source": [
        "class calculator_basic():\n",
        "  def __init__(self,inp_a,inp_b):\n",
        "    self.inp_a=inp_a\n",
        "    self.inp_b=inp_b\n",
        "  def add(self):\n",
        "    sum=self.inp_a+self.inp_b\n",
        "    return sum\n",
        "  def sub(self):\n",
        "    return self.inp_a-self.inp_b\n",
        "  def mul(self):\n",
        "    return self.inp_a*self.inp_b\n",
        "  def div(self):\n",
        "    return self.inp_a//self.inp_b\n",
        "\n",
        "\n",
        "\n",
        "while True:\n",
        "    # take input from the user\n",
        "    choice = input(\"Enter choice(1/2/3/4): \")\n",
        "\n",
        "    # check if choice is one of the four options\n",
        "    if choice in ('1', '2', '3', '4'):\n",
        "        num1 = float(input(\"Enter first number: \"))\n",
        "        num2 = float(input(\"Enter second number: \"))\n",
        "        calc_obj=calculator_basic(num1,num2)\n",
        "\n",
        "        if choice == '1':\n",
        "            print(num1, \"+\", num2, \"=\", calc_obj.add())\n",
        "\n",
        "        elif choice == '2':\n",
        "            print(num1, \"-\", num2, \"=\",calc_obj.sub( ))\n",
        "\n",
        "        elif choice == '3':\n",
        "            print(num1, \"*\", num2, \"=\", calc_obj.mul() )\n",
        "\n",
        "        elif choice == '4':\n",
        "            print(num1, \"/\", num2, \"=\", calc_obj.div())\n",
        "        \n",
        "        # check if user wants another calculation\n",
        "        # break the while loop if answer is no\n",
        "        next_calculation = input(\"Let's do next calculation? (yes/no): \")\n",
        "        if next_calculation == \"no\":\n",
        "          break\n",
        "    \n",
        "    else:\n",
        "        print(\"Invalid Input\")"
      ],
      "metadata": {
        "colab": {
          "base_uri": "https://localhost:8080/"
        },
        "id": "wvom_J6w87WL",
        "outputId": "9bd47809-596b-463f-bd47-ecb5b52925e7"
      },
      "execution_count": 19,
      "outputs": [
        {
          "name": "stdout",
          "output_type": "stream",
          "text": [
            "Enter choice(1/2/3/4): 1\n",
            "Enter first number: 20\n",
            "Enter second number: 30\n",
            "20.0 + 30.0 = 50.0\n",
            "Let's do next calculation? (yes/no): yes\n",
            "Enter choice(1/2/3/4): 4\n",
            "Enter first number: 10\n",
            "Enter second number: 5\n",
            "10.0 / 5.0 = 2.0\n",
            "Let's do next calculation? (yes/no): no\n"
          ]
        }
      ]
    }
  ]
}