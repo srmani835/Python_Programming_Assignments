{
  "nbformat": 4,
  "nbformat_minor": 0,
  "metadata": {
    "colab": {
      "provenance": []
    },
    "kernelspec": {
      "name": "python3",
      "display_name": "Python 3"
    },
    "language_info": {
      "name": "python"
    }
  },
  "cells": [
    {
      "cell_type": "markdown",
      "source": [
        "1.\tWrite a Python Program to find sum of array?"
      ],
      "metadata": {
        "id": "j47Sexp7KnQG"
      }
    },
    {
      "cell_type": "code",
      "source": [
        "n=int(input(\"Enter the size of array :\"))\n",
        "array_list=list(map(int, input(\"Enter the elements :\").strip().split()))[:n]\n",
        "print(array_list)\n",
        "sum=0\n",
        "for i in array_list:\n",
        "  sum=sum+i\n",
        "print(f\"The sum of elements in array {sum} \")"
      ],
      "metadata": {
        "colab": {
          "base_uri": "https://localhost:8080/"
        },
        "id": "JGYK4xsiKokb",
        "outputId": "45ac7ada-c10e-4a78-e973-84b1be6710a9"
      },
      "execution_count": 6,
      "outputs": [
        {
          "output_type": "stream",
          "name": "stdout",
          "text": [
            "Enter the size of array :5\n",
            "Enter the elements :1 2 3 4 5\n",
            "[1, 2, 3, 4, 5]\n",
            "The sum of elements in array 15 \n"
          ]
        }
      ]
    },
    {
      "cell_type": "markdown",
      "source": [
        "2.\tWrite a Python Program to find largest element in an array?"
      ],
      "metadata": {
        "id": "qN9i_g218A7_"
      }
    },
    {
      "cell_type": "code",
      "source": [
        "n=int(input(\"Enter the size of array :\"))\n",
        "array_list=list(map(int, input(\"Enter the elements :\").strip().split()))[:n]\n",
        "max=array_list[0]\n",
        "for i in array_list:\n",
        "  if i>=max:\n",
        "    max=i\n",
        "print(f\"The maximum element is {max}\")"
      ],
      "metadata": {
        "colab": {
          "base_uri": "https://localhost:8080/"
        },
        "id": "9gZXwP6g75W2",
        "outputId": "eac03c44-131c-4a30-9f07-4a135f9b7f27"
      },
      "execution_count": 11,
      "outputs": [
        {
          "output_type": "stream",
          "name": "stdout",
          "text": [
            "Enter the size of array :6\n",
            "Enter the elements :1 5 9 89 -6 3\n",
            "The maximum element is 89\n"
          ]
        }
      ]
    },
    {
      "cell_type": "markdown",
      "source": [
        "3.\tWrite a Python Program for array rotation?"
      ],
      "metadata": {
        "id": "H38PhecM8yq1"
      }
    },
    {
      "cell_type": "code",
      "source": [
        "n=int(input(\"Enter the size of array :\"))\n",
        "array_list=list(map(int, input(\"Enter the elements :\").strip().split()))[:n]\n",
        "array_rotate=array_list[::-1]\n",
        "print(f\"The rotation array is {array_rotate}\")"
      ],
      "metadata": {
        "colab": {
          "base_uri": "https://localhost:8080/"
        },
        "id": "gxZYmEx782gx",
        "outputId": "bda06e6e-e752-4b4c-ee53-86fec044addf"
      },
      "execution_count": 12,
      "outputs": [
        {
          "output_type": "stream",
          "name": "stdout",
          "text": [
            "Enter the size of array :5\n",
            "Enter the elements :1 2 3 4 5\n",
            "The rotation array is [5, 4, 3, 2, 1]\n"
          ]
        }
      ]
    },
    {
      "cell_type": "markdown",
      "source": [
        "4.\tWrite a Python Program to Split the array and add the first part to the end?"
      ],
      "metadata": {
        "id": "4f_VXqrt9Q3L"
      }
    },
    {
      "cell_type": "code",
      "source": [
        "n=int(input(\"Enter the size of array :\"))\n",
        "array_list=list(map(int, input(\"Enter the elements :\").strip().split()))[:n]\n",
        "split_element=int(input(\"enter the position you want to split :\"))\n",
        "list_split_left=array_list[:split_element]\n",
        "list_split_rem_part=array_list[split_element:]\n",
        "array_split=list_split_rem_part+list_split_left\n",
        "print(f\"The entered list is {array_list}\")\n",
        "print(f\"The splitted list is {array_split}\")"
      ],
      "metadata": {
        "colab": {
          "base_uri": "https://localhost:8080/"
        },
        "id": "Y_rZ-JWk917e",
        "outputId": "a80a323b-8e23-4450-8b50-5678bece4990"
      },
      "execution_count": 13,
      "outputs": [
        {
          "output_type": "stream",
          "name": "stdout",
          "text": [
            "Enter the size of array :5\n",
            "Enter the elements :1 2 3 4 5\n",
            "enter the position you want to split :1\n",
            "The entered list is [1, 2, 3, 4, 5]\n",
            "The splitted list is [2, 3, 4, 5, 1]\n"
          ]
        }
      ]
    },
    {
      "cell_type": "markdown",
      "source": [
        "5.\tWrite a Python Program to check if given array is Monotonic?"
      ],
      "metadata": {
        "id": "sy98Tr0G_W7t"
      }
    },
    {
      "cell_type": "code",
      "source": [
        "#Monotonic is either increasing or decreasing\n",
        "n=int(input(\"Enter the size of array :\"))\n",
        "array_list=list(map(int, input(\"Enter the elements :\").strip().split()))[:n]\n",
        "def ismonotone(a):\n",
        "    n=len(a) #size of array\n",
        "    if n==1:\n",
        "        return True\n",
        "    else:\n",
        "        #check for monotone behaviour\n",
        "        if all(a[i]>=a[i+1] for i in range(0,n-1) or a[i]<=a[i+1] for i in range(0,n-1)):\n",
        "            return True\n",
        "        else:\n",
        "            return False\n",
        "c=ismonotone(array_list)\n",
        "if c==False:\n",
        "  print(\"Array is not monotonic\")\n",
        "else:\n",
        "  print(\"Array is monotonic\")\n"
      ],
      "metadata": {
        "colab": {
          "base_uri": "https://localhost:8080/"
        },
        "id": "-Agmp4aO_aqn",
        "outputId": "109061f8-085a-4ce9-cebb-8eb33bc53238"
      },
      "execution_count": 23,
      "outputs": [
        {
          "output_type": "stream",
          "name": "stdout",
          "text": [
            "Enter the size of array :4\n",
            "Enter the elements :3 5 4 2\n",
            "Array is not monotonic\n"
          ]
        }
      ]
    },
    {
      "cell_type": "code",
      "source": [],
      "metadata": {
        "id": "YgJM8eSkAxqm"
      },
      "execution_count": 23,
      "outputs": []
    }
  ]
}