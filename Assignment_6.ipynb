{
  "nbformat": 4,
  "nbformat_minor": 0,
  "metadata": {
    "colab": {
      "provenance": []
    },
    "kernelspec": {
      "name": "python3",
      "display_name": "Python 3"
    },
    "language_info": {
      "name": "python"
    }
  },
  "cells": [
    {
      "cell_type": "markdown",
      "source": [
        "1.\tWrite a Python Program to Display Fibonacci Sequence Using Recursion?"
      ],
      "metadata": {
        "id": "4JZX15aJEDuY"
      }
    },
    {
      "cell_type": "code",
      "source": [
        "def recur_fibo(n):\n",
        "   if n <= 1:\n",
        "       return n\n",
        "   else:\n",
        "       return(recur_fibo(n-1) + recur_fibo(n-2))\n",
        "\n",
        "nterms = 10\n",
        "\n",
        "\n",
        "if nterms <= 0:\n",
        "   print(\"Plese enter a positive integer\")\n",
        "else:\n",
        "   print(\"Fibonacci sequence:\")\n",
        "   for i in range(nterms):\n",
        "       print(recur_fibo(i))"
      ],
      "metadata": {
        "colab": {
          "base_uri": "https://localhost:8080/"
        },
        "id": "p48pBg37EGnM",
        "outputId": "8c526b81-6922-4878-8b27-2a03bcc98004"
      },
      "execution_count": 1,
      "outputs": [
        {
          "output_type": "stream",
          "name": "stdout",
          "text": [
            "Fibonacci sequence:\n",
            "0\n",
            "1\n",
            "1\n",
            "2\n",
            "3\n",
            "5\n",
            "8\n",
            "13\n",
            "21\n",
            "34\n"
          ]
        }
      ]
    },
    {
      "cell_type": "markdown",
      "source": [
        "2.\tWrite a Python Program to Find Factorial of Number Using Recursion?"
      ],
      "metadata": {
        "id": "9LYBgiS4EW1i"
      }
    },
    {
      "cell_type": "code",
      "source": [
        "num=5\n",
        "def fact_recur(num):\n",
        "  if (num==1 or num==0):\n",
        "    return 1\n",
        "  else:\n",
        "    return num*fact_recur(num-1)\n",
        "c=fact_recur(num)\n",
        "print(f\"The factarial of a number {num} is {c}\")"
      ],
      "metadata": {
        "colab": {
          "base_uri": "https://localhost:8080/"
        },
        "id": "DpzquZvGEn_d",
        "outputId": "a4cc136f-4254-449f-b354-c58e2d2f5bff"
      },
      "execution_count": 6,
      "outputs": [
        {
          "output_type": "stream",
          "name": "stdout",
          "text": [
            "The factarial of a number 5 is 120\n"
          ]
        }
      ]
    },
    {
      "cell_type": "markdown",
      "source": [
        "3.\tWrite a Python Program to calculate your Body Mass Index?"
      ],
      "metadata": {
        "id": "4PZGTWqIFlRV"
      }
    },
    {
      "cell_type": "code",
      "source": [
        "#BMI=(weight in kgs)//(height in meters)**2\n",
        "\n",
        "height=float(input(\"Enter the Height in meters: \"))\n",
        "\n",
        "weight=float(input(\"Enter the weight in kgs: \"))\n",
        "\n",
        "\n",
        "BMI=(weight)/((height)**2)\n",
        "print(f\"The BMI of a person with height : {height} m, weight : {weight} kg is = {BMI}\")\n"
      ],
      "metadata": {
        "colab": {
          "base_uri": "https://localhost:8080/"
        },
        "id": "twZuVJVvFt1U",
        "outputId": "272fffde-1764-4cb2-a9a5-b855c763f3c8"
      },
      "execution_count": 17,
      "outputs": [
        {
          "output_type": "stream",
          "name": "stdout",
          "text": [
            "Enter the Height in meters: 1.6\n",
            "Enter the weight in kgs: 61\n",
            "The BMI of a person with height : 1.6 m, weight : 61.0 kg is = 23.828124999999996\n"
          ]
        }
      ]
    },
    {
      "cell_type": "markdown",
      "source": [
        "4.\tWrite a Python Program to calculate the natural logarithm of any number?"
      ],
      "metadata": {
        "id": "YAtFD5ZiIkIx"
      }
    },
    {
      "cell_type": "code",
      "source": [
        "import math\n",
        " \n",
        "#Natural log is log base e\n",
        "print (\"Natural logarithm of 14 is : \", end=\"\")\n",
        "print (math.log(14))"
      ],
      "metadata": {
        "colab": {
          "base_uri": "https://localhost:8080/"
        },
        "id": "Q3sclk6EHq92",
        "outputId": "ee7ac21a-6c31-448f-d30d-ddad4f3a0e24"
      },
      "execution_count": 18,
      "outputs": [
        {
          "output_type": "stream",
          "name": "stdout",
          "text": [
            "Natural logarithm of 14 is : 2.6390573296152584\n"
          ]
        }
      ]
    },
    {
      "cell_type": "markdown",
      "source": [
        "5.\tWrite a Python Program for cube sum of first n natural numbers?"
      ],
      "metadata": {
        "id": "ZXpAB2ZaJK5Y"
      }
    },
    {
      "cell_type": "code",
      "source": [
        "#sum of cubes=(n(n+1)/2)**2\n",
        "\n",
        "n=int(input(\"Enter the range to get natural numbers: \"))\n",
        "sum_of_cubes=((n*(n+1))/2)**2\n",
        "\n",
        "print(f\"The sum of cubes for first {n} natural numbers is : {sum_of_cubes}\")"
      ],
      "metadata": {
        "colab": {
          "base_uri": "https://localhost:8080/"
        },
        "id": "MYgjHCK1JP86",
        "outputId": "047a45e7-d3dc-43e6-8315-934edfd6b36a"
      },
      "execution_count": 19,
      "outputs": [
        {
          "output_type": "stream",
          "name": "stdout",
          "text": [
            "Enter the range to get natural numbers: 5\n",
            "The sum of cubes for first 5 natural numbers is : 225.0\n"
          ]
        }
      ]
    }
  ]
}