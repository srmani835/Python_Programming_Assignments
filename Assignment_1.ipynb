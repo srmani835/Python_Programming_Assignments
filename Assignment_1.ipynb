{
  "nbformat": 4,
  "nbformat_minor": 0,
  "metadata": {
    "colab": {
      "provenance": []
    },
    "kernelspec": {
      "name": "python3",
      "display_name": "Python 3"
    },
    "language_info": {
      "name": "python"
    }
  },
  "cells": [
    {
      "cell_type": "markdown",
      "source": [
        "1.\tWrite a Python program to print \"Hello Python\"?"
      ],
      "metadata": {
        "id": "WC7O1MXxqWQs"
      }
    },
    {
      "cell_type": "code",
      "source": [
        "print(\"Hello Python\")"
      ],
      "metadata": {
        "colab": {
          "base_uri": "https://localhost:8080/"
        },
        "id": "WgDvBtNgqZ50",
        "outputId": "46cae256-33b9-49c8-af79-fb237e013338"
      },
      "execution_count": 2,
      "outputs": [
        {
          "output_type": "stream",
          "name": "stdout",
          "text": [
            "Hello Python\n"
          ]
        }
      ]
    },
    {
      "cell_type": "markdown",
      "source": [
        "2. Write a Python program to do arithmetical operations addition and division.?"
      ],
      "metadata": {
        "id": "y5i2rB4Hqe9m"
      }
    },
    {
      "cell_type": "code",
      "source": [
        "class Arthemitic_operations():\n",
        "  def __init__(self,input_a,input_b):\n",
        "    self.input_a=input_a\n",
        "    self.input_b=input_b\n",
        "  def addition(self):\n",
        "    add=self.input_a+self.input_b\n",
        "    return add\n",
        "  def division(self):\n",
        "    div=self.input_a//self.input_b\n",
        "    return div\n",
        "\n",
        "object_a=Arthemitic_operations(8,4)\n",
        "sum=object_a.addition()\n",
        "div=object_a.division()\n",
        "print(f\"The sum of two numbers is {sum}\")\n",
        "print(f\"The division of two numbers is {div}\")"
      ],
      "metadata": {
        "colab": {
          "base_uri": "https://localhost:8080/"
        },
        "id": "0-Drh4KYqrqA",
        "outputId": "472c05af-0107-4cbb-8da8-b0bab3e981f0"
      },
      "execution_count": 15,
      "outputs": [
        {
          "output_type": "stream",
          "name": "stdout",
          "text": [
            "The sum of two numbers is 12\n",
            "The division of two numbers is 2\n"
          ]
        }
      ]
    },
    {
      "cell_type": "markdown",
      "source": [
        "3. Write a Python program to find the area of a triangle?"
      ],
      "metadata": {
        "id": "eOKFafW8t9wH"
      }
    },
    {
      "cell_type": "code",
      "source": [
        "#Area of a triangle=0.5*b*h\n",
        "\n",
        "class Area_of_Triangle():\n",
        "    def __init__(self,input_h,input_b):\n",
        "\n",
        "        self.input_h=input_h\n",
        "        self.input_b=input_b\n",
        "\n",
        "    def get_area(self):\n",
        "      area=0.5*self.input_b*self.input_h\n",
        "      return area\n",
        "\n",
        "Calc_area=Area_of_Triangle(6,8)\n",
        "Area=Calc_area.get_area()\n",
        "print(f\"The area of triangle is {Area}\")"
      ],
      "metadata": {
        "colab": {
          "base_uri": "https://localhost:8080/"
        },
        "id": "jYYpgGQEsiRe",
        "outputId": "ec99db38-8df8-488a-91e7-de0063d5c183"
      },
      "execution_count": 19,
      "outputs": [
        {
          "output_type": "stream",
          "name": "stdout",
          "text": [
            "The area of triangle is 24.0\n"
          ]
        }
      ]
    },
    {
      "cell_type": "markdown",
      "source": [
        "4.\tWrite a Python program to swap two variables?"
      ],
      "metadata": {
        "id": "UMVKm49-vgee"
      }
    },
    {
      "cell_type": "code",
      "source": [
        "def swap_variables(a,b):\n",
        "  a,b=b,a\n",
        "  return a,b\n",
        "input_a_before_swap=3\n",
        "input_b_before_swap=5\n",
        "\n",
        "print(f\"The values of a before swap is {input_a_before_swap} and value of b before swap is {input_b_before_swap}\")\n",
        "\n",
        "swap_value_a,swap_value_b=swap_variables(input_a_before_swap,input_b_before_swap)\n",
        "\n",
        "print(f\"The values of a after swap is {swap_value_a} and value of b after swap is {swap_value_b}\")\n",
        "\n",
        "\n"
      ],
      "metadata": {
        "colab": {
          "base_uri": "https://localhost:8080/"
        },
        "id": "aKIbxRU4vk63",
        "outputId": "4e98034c-39bd-49a2-8972-a285ce1cead7"
      },
      "execution_count": 22,
      "outputs": [
        {
          "output_type": "stream",
          "name": "stdout",
          "text": [
            "The values of a before swap is 3 and value of b before swap is 5\n",
            "The values of a after swap is 5 and value of b after swap is 3\n"
          ]
        }
      ]
    },
    {
      "cell_type": "markdown",
      "source": [
        "5.\tWrite a Python program to generate a random number?"
      ],
      "metadata": {
        "id": "tCfSYyXowtzx"
      }
    },
    {
      "cell_type": "code",
      "source": [
        "# random module is used to generate the random numbers\n",
        "import random\n",
        "\n",
        "print(random.randint(0,9))"
      ],
      "metadata": {
        "colab": {
          "base_uri": "https://localhost:8080/"
        },
        "id": "prruXZ2Xwz2V",
        "outputId": "b70bc58f-e0c0-41a3-af87-a3f9405ce6b1"
      },
      "execution_count": 23,
      "outputs": [
        {
          "output_type": "stream",
          "name": "stdout",
          "text": [
            "2\n"
          ]
        }
      ]
    }
  ]
}